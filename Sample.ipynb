{
 "cells": [
  {
   "cell_type": "code",
   "execution_count": 16,
   "id": "7c8aa8ea-5485-412b-9ed3-8b6695383a08",
   "metadata": {},
   "outputs": [
    {
     "name": "stdout",
     "output_type": "stream",
     "text": [
      "Anish\n"
     ]
    }
   ],
   "source": [
    "print(\"Anish\")"
   ]
  },
  {
   "cell_type": "code",
   "execution_count": 18,
   "id": "51b8cc26-db29-4519-ba6d-174865bc99b1",
   "metadata": {},
   "outputs": [],
   "source": [
    "disct = { 'Anish':43,'Naveen':22 }"
   ]
  },
  {
   "cell_type": "code",
   "execution_count": 20,
   "id": "9408e887-3853-4c57-87f0-839d8959a987",
   "metadata": {},
   "outputs": [
    {
     "name": "stdout",
     "output_type": "stream",
     "text": [
      "{'Anish': 43, 'Naveen': 22}\n"
     ]
    }
   ],
   "source": [
    "print(disct)"
   ]
  },
  {
   "cell_type": "code",
   "execution_count": 22,
   "id": "8272d664-5fa3-4adf-aac0-65ab3a53787a",
   "metadata": {},
   "outputs": [
    {
     "name": "stdout",
     "output_type": "stream",
     "text": [
      "22\n"
     ]
    }
   ],
   "source": [
    "print(disct['Naveen'])"
   ]
  },
  {
   "cell_type": "code",
   "execution_count": 24,
   "id": "7aa1815d-cdcf-4cb3-bd75-82f31350269c",
   "metadata": {},
   "outputs": [
    {
     "name": "stdout",
     "output_type": "stream",
     "text": [
      "[43, 22]\n"
     ]
    }
   ],
   "source": [
    "print(list(disct.values()))"
   ]
  },
  {
   "cell_type": "code",
   "execution_count": 26,
   "id": "1ad95388-385d-402a-ab8b-c6b394fb6216",
   "metadata": {},
   "outputs": [
    {
     "name": "stdout",
     "output_type": "stream",
     "text": [
      "['Anish', 'Naveen']\n"
     ]
    }
   ],
   "source": [
    "print(list(disct.keys()))"
   ]
  },
  {
   "cell_type": "code",
   "execution_count": null,
   "id": "4a7338b7-2016-4e1a-ada8-6917076c83c9",
   "metadata": {},
   "outputs": [],
   "source": []
  }
 ],
 "metadata": {
  "kernelspec": {
   "display_name": "Python 3 (ipykernel)",
   "language": "python",
   "name": "python3"
  },
  "language_info": {
   "codemirror_mode": {
    "name": "ipython",
    "version": 3
   },
   "file_extension": ".py",
   "mimetype": "text/x-python",
   "name": "python",
   "nbconvert_exporter": "python",
   "pygments_lexer": "ipython3",
   "version": "3.12.7"
  }
 },
 "nbformat": 4,
 "nbformat_minor": 5
}
